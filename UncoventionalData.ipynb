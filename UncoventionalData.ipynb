{
 "cells": [
  {
   "cell_type": "code",
   "execution_count": 1,
   "id": "straight-allowance",
   "metadata": {},
   "outputs": [],
   "source": [
    "from ctypes.util import find_library\n",
    "import ctypes\n",
    "find_library(\"\".join((\"gsdll\", str(ctypes.sizeof(ctypes.c_voidp) * 8), \".dll\")))"
   ]
  },
  {
   "cell_type": "code",
   "execution_count": 2,
   "id": "increasing-syntax",
   "metadata": {},
   "outputs": [
    {
     "data": {
      "text/plain": [
       "the            123\n",
       "of              96\n",
       "and             73\n",
       "to              60\n",
       "a               48\n",
       "in              44\n",
       "for             34\n",
       "was             22\n",
       "be              21\n",
       "which           20\n",
       "The             19\n",
       "by              19\n",
       "this            19\n",
       "is              19\n",
       "on              17\n",
       "are             15\n",
       "as              15\n",
       "data            15\n",
       "This            14\n",
       "•               13\n",
       "In              13\n",
       "algorithm       12\n",
       "from            11\n",
       "can             11\n",
       "has             10\n",
       "been            10\n",
       "Proceedings     10\n",
       "regular         10\n",
       "number          10\n",
       "that            10\n",
       "dtype: int64"
      ]
     },
     "execution_count": 2,
     "metadata": {},
     "output_type": "execute_result"
    }
   ],
   "source": [
    "import fitz\n",
    "import pandas as pd\n",
    "from collections import Counter\n",
    "\n",
    "doc = fitz.open('CISC367_Final_Paper (1).pdf')\n",
    "text = \"\".join(page.get_text(\"text\") for page in doc)\n",
    "words = pd.Series(text.split())\n",
    "words.value_counts().head(30)"
   ]
  },
  {
   "cell_type": "code",
   "execution_count": 3,
   "id": "perceived-creature",
   "metadata": {},
   "outputs": [
    {
     "data": {
      "text/html": [
       "<div>\n",
       "<style scoped>\n",
       "    .dataframe tbody tr th:only-of-type {\n",
       "        vertical-align: middle;\n",
       "    }\n",
       "\n",
       "    .dataframe tbody tr th {\n",
       "        vertical-align: top;\n",
       "    }\n",
       "\n",
       "    .dataframe thead th {\n",
       "        text-align: right;\n",
       "    }\n",
       "</style>\n",
       "<table border=\"1\" class=\"dataframe\">\n",
       "  <thead>\n",
       "    <tr style=\"text-align: right;\">\n",
       "      <th></th>\n",
       "      <th>0</th>\n",
       "      <th>1</th>\n",
       "      <th>2</th>\n",
       "      <th>3</th>\n",
       "      <th>4</th>\n",
       "    </tr>\n",
       "  </thead>\n",
       "  <tbody>\n",
       "    <tr>\n",
       "      <th>0</th>\n",
       "      <td>Fall</td>\n",
       "      <td>2020 Fall Term</td>\n",
       "      <td></td>\n",
       "      <td>2021 Fall Term</td>\n",
       "      <td></td>\n",
       "    </tr>\n",
       "    <tr>\n",
       "      <th>1</th>\n",
       "      <td>First Day of Classes</td>\n",
       "      <td>Tue</td>\n",
       "      <td>September 1</td>\n",
       "      <td>Tue</td>\n",
       "      <td>August 31</td>\n",
       "    </tr>\n",
       "    <tr>\n",
       "      <th>2</th>\n",
       "      <td>Labor Day - Classes Will Meet</td>\n",
       "      <td>Mon</td>\n",
       "      <td>September 7</td>\n",
       "      <td></td>\n",
       "      <td></td>\n",
       "    </tr>\n",
       "    <tr>\n",
       "      <th>3</th>\n",
       "      <td>Labor Day - Classes Suspended</td>\n",
       "      <td></td>\n",
       "      <td></td>\n",
       "      <td>Mon</td>\n",
       "      <td>September 6</td>\n",
       "    </tr>\n",
       "    <tr>\n",
       "      <th>4</th>\n",
       "      <td>Last day to add or drop courses</td>\n",
       "      <td>Tue</td>\n",
       "      <td>September 15</td>\n",
       "      <td>Tue</td>\n",
       "      <td>September 14</td>\n",
       "    </tr>\n",
       "    <tr>\n",
       "      <th>...</th>\n",
       "      <td>...</td>\n",
       "      <td>...</td>\n",
       "      <td>...</td>\n",
       "      <td>...</td>\n",
       "      <td>...</td>\n",
       "    </tr>\n",
       "    <tr>\n",
       "      <th>70</th>\n",
       "      <td>Summer Session - 10 week - classes begin</td>\n",
       "      <td>Mon</td>\n",
       "      <td>June 7</td>\n",
       "      <td>Mon</td>\n",
       "      <td>June 6</td>\n",
       "    </tr>\n",
       "    <tr>\n",
       "      <th>71</th>\n",
       "      <td>Last day to add or drop courses</td>\n",
       "      <td>Wed</td>\n",
       "      <td>June 16</td>\n",
       "      <td>Wed</td>\n",
       "      <td>June 15</td>\n",
       "    </tr>\n",
       "    <tr>\n",
       "      <th>72</th>\n",
       "      <td>Last day to change registration or withdraw fr...</td>\n",
       "      <td>Thur</td>\n",
       "      <td>July 15</td>\n",
       "      <td>Thur</td>\n",
       "      <td>July 14</td>\n",
       "    </tr>\n",
       "    <tr>\n",
       "      <th>73</th>\n",
       "      <td>Final Exams</td>\n",
       "      <td>Fri</td>\n",
       "      <td>August 13</td>\n",
       "      <td>Fri</td>\n",
       "      <td>August 12</td>\n",
       "    </tr>\n",
       "    <tr>\n",
       "      <th>74</th>\n",
       "      <td>Deadline for 10-week grades to be posted to UDSIS</td>\n",
       "      <td>Tue</td>\n",
       "      <td>August 17</td>\n",
       "      <td>Tue</td>\n",
       "      <td>August 16</td>\n",
       "    </tr>\n",
       "  </tbody>\n",
       "</table>\n",
       "<p>75 rows × 5 columns</p>\n",
       "</div>"
      ],
      "text/plain": [
       "                                                    0               1  \\\n",
       "0                                                Fall  2020 Fall Term   \n",
       "1                                First Day of Classes             Tue   \n",
       "2                       Labor Day - Classes Will Meet             Mon   \n",
       "3                       Labor Day - Classes Suspended                   \n",
       "4                     Last day to add or drop courses             Tue   \n",
       "..                                                ...             ...   \n",
       "70           Summer Session - 10 week - classes begin             Mon   \n",
       "71                    Last day to add or drop courses             Wed   \n",
       "72  Last day to change registration or withdraw fr...            Thur   \n",
       "73                                        Final Exams             Fri   \n",
       "74  Deadline for 10-week grades to be posted to UDSIS             Tue   \n",
       "\n",
       "               2               3             4  \n",
       "0                 2021 Fall Term                \n",
       "1    September 1             Tue     August 31  \n",
       "2    September 7                                \n",
       "3                            Mon   September 6  \n",
       "4   September 15             Tue  September 14  \n",
       "..           ...             ...           ...  \n",
       "70        June 7             Mon        June 6  \n",
       "71       June 16             Wed       June 15  \n",
       "72       July 15            Thur       July 14  \n",
       "73     August 13             Fri     August 12  \n",
       "74     August 17             Tue     August 16  \n",
       "\n",
       "[75 rows x 5 columns]"
      ]
     },
     "execution_count": 3,
     "metadata": {},
     "output_type": "execute_result"
    }
   ],
   "source": [
    "import camelot\n",
    "tables = camelot.read_pdf('calendar.pdf')\n",
    "df = tables[0].df\n",
    "df"
   ]
  },
  {
   "cell_type": "markdown",
   "id": "devoted-grounds",
   "metadata": {},
   "source": [
    "### Reddit Image"
   ]
  },
  {
   "cell_type": "code",
   "execution_count": 4,
   "id": "automatic-valentine",
   "metadata": {},
   "outputs": [],
   "source": [
    "import requests\n",
    "data = requests.get(\"https://www.reddit.com/r/badcode/.json\", headers = {'User-agent': 'your bot 0.1'}).json()"
   ]
  },
  {
   "cell_type": "code",
   "execution_count": 5,
   "id": "athletic-rainbow",
   "metadata": {},
   "outputs": [],
   "source": [
    "import json\n",
    "with open(\"reddit.json\", \"w\") as json_file:\n",
    "    json.dump(data,json_file)"
   ]
  },
  {
   "cell_type": "code",
   "execution_count": 7,
   "id": "grand-homeless",
   "metadata": {},
   "outputs": [
    {
     "name": "stdout",
     "output_type": "stream",
     "text": [
      "['https://i.redd.it/6oytcync3py61.png', 'https://i.redd.it/6oytcync3py61.png', 'https://i.redd.it/xt1ay7w2omy61.png', 'https://i.redd.it/xt1ay7w2omy61.png', 'https://i.redd.it/5zz3mhaasey61.png', 'https://i.redd.it/5zz3mhaasey61.png', 'https://i.redd.it/5cik7xx3sgy61.png', 'https://i.redd.it/5cik7xx3sgy61.png', 'https://i.redd.it/sqr37jimzgy61.png', 'https://i.redd.it/sqr37jimzgy61.png', 'https://i.redd.it/kplp5ztm8ay61.png', 'https://i.redd.it/kplp5ztm8ay61.png', 'https://i.redd.it/lxdmw9bxnby61.png', 'https://i.redd.it/lxdmw9bxnby61.png', 'https://i.redd.it/0bnqgq7b8by61.png', 'https://i.redd.it/0bnqgq7b8by61.png', 'https://i.redd.it/dvq0c8i3v4y61.png', 'https://i.redd.it/dvq0c8i3v4y61.png', 'https://i.redd.it/q9vik4417wx61.png', 'https://i.redd.it/q9vik4417wx61.png', 'https://i.redd.it/aketkty1txx61.png', 'https://i.redd.it/aketkty1txx61.png', 'https://i.redd.it/ncpxwx6140y61.png', 'https://i.redd.it/ncpxwx6140y61.png', 'https://i.redd.it/v8kd90wlqpx61.png', 'https://i.redd.it/v8kd90wlqpx61.png', 'https://i.redd.it/d7b6lr1ernx61.png', 'https://i.redd.it/d7b6lr1ernx61.png', 'https://i.redd.it/mvyukm3xrux61.png', 'https://i.redd.it/mvyukm3xrux61.png', 'https://i.redd.it/ldi1lkjpkrx61.png', 'https://i.redd.it/ldi1lkjpkrx61.png', 'https://i.redd.it/p9res30gwlx61.png', 'https://i.redd.it/p9res30gwlx61.png', 'https://i.redd.it/c3wsr7b38px61.png', 'https://i.redd.it/c3wsr7b38px61.png', 'https://i.redd.it/lszo63dprhx61.png', 'https://i.redd.it/lszo63dprhx61.png', 'https://i.redd.it/16wn63vuhdx61.png', 'https://i.redd.it/16wn63vuhdx61.png', 'https://i.redd.it/ee2iwzqyzbx61.png', 'https://i.redd.it/ee2iwzqyzbx61.png']\n",
      "42\n"
     ]
    }
   ],
   "source": [
    "pic_list = []\n",
    "for i in range(25):\n",
    "    index = data[\"data\"][\"children\"][i][\"data\"]\n",
    "    for val in index:\n",
    "        if isinstance(index[val],str):\n",
    "            if \".png\" in index[val]:\n",
    "                pic_list.append(index[val])\n",
    "print(pic_list)\n",
    "print(len(pic_list))"
   ]
  },
  {
   "cell_type": "code",
   "execution_count": 8,
   "id": "published-washer",
   "metadata": {},
   "outputs": [
    {
     "name": "stdout",
     "output_type": "stream",
     "text": [
      "done\n"
     ]
    }
   ],
   "source": [
    "import pytesseract\n",
    "from PIL import Image\n",
    "import io as io\n",
    "all_text = []\n",
    "for url in pic_list:\n",
    "    response = requests.get(url)\n",
    "    img = Image.open(io.BytesIO(response.content))\n",
    "    text = pytesseract.image_to_string(img)\n",
    "    all_text.append(text)\n",
    "print(\"done\")"
   ]
  },
  {
   "cell_type": "code",
   "execution_count": 9,
   "id": "fifteen-burden",
   "metadata": {},
   "outputs": [
    {
     "name": "stdout",
     "output_type": "stream",
     "text": [
      "=            204\n",
      "a             82\n",
      "Math.         60\n",
      "}             44\n",
      "Els           42\n",
      "            ... \n",
      "e)             2\n",
      "eeU            2\n",
      "inner++){      2\n",
      "12:            2\n",
      "mel            2\n",
      "Length: 1088, dtype: int64\n"
     ]
    }
   ],
   "source": [
    "str_text = \"\"\n",
    "for text in all_text:\n",
    "    str_text += text\n",
    "words = pd.Series(str_text.split())\n",
    "print(words.value_counts())"
   ]
  },
  {
   "cell_type": "code",
   "execution_count": 10,
   "id": "acquired-party",
   "metadata": {},
   "outputs": [],
   "source": [
    "from textblob import TextBlob\n",
    "blob = TextBlob(str_text)\n"
   ]
  },
  {
   "cell_type": "code",
   "execution_count": 11,
   "id": "together-suffering",
   "metadata": {},
   "outputs": [
    {
     "data": {
      "text/plain": [
       "image            24\n",
       "e                24\n",
       "text             24\n",
       "base             26\n",
       "floor            26\n",
       "four             26\n",
       "25               28\n",
       "50               30\n",
       "three            30\n",
       "private          30\n",
       "random           30\n",
       "six              30\n",
       "500              34\n",
       "numcents         34\n",
       "two              36\n",
       "ee               36\n",
       "0                36\n",
       "100              40\n",
       "5                40\n",
       "els              42\n",
       "eee              42\n",
       "if               44\n",
       "five             46\n",
       "main             48\n",
       "value.concat     48\n",
       "eval             48\n",
       "math             60\n",
       "10               62\n",
       "1                66\n",
       "a               102\n",
       "dtype: int64"
      ]
     },
     "execution_count": 11,
     "metadata": {},
     "output_type": "execute_result"
    }
   ],
   "source": [
    "pd.Series(blob.word_counts).sort_values().tail(30)"
   ]
  },
  {
   "cell_type": "code",
   "execution_count": 12,
   "id": "sharing-freight",
   "metadata": {},
   "outputs": [
    {
     "name": "stdout",
     "output_type": "stream",
     "text": [
      "-0.1\n"
     ]
    }
   ],
   "source": [
    "blob = TextBlob(text)\n",
    "print(blob.sentiment.polarity)"
   ]
  },
  {
   "cell_type": "markdown",
   "id": "fantastic-suffering",
   "metadata": {},
   "source": [
    "### Face Recognition"
   ]
  },
  {
   "cell_type": "code",
   "execution_count": null,
   "id": "unusual-james",
   "metadata": {},
   "outputs": [],
   "source": [
    "import numpy as np\n",
    "import cv2\n",
    "\n",
    "face_cascade = cv2.CascadeClassifier('haarcascade_frontalface_default.xml')\n",
    "eye_cascade = cv2.CascadeClassifier('haarcascade_eye.xml')\n",
    "\n",
    "img = cv2.imread('pic3.jpeg')\n",
    "gray = cv2.cvtColor(img, cv2.COLOR_BGR2GRAY)\n",
    "\n",
    "faces = face_cascade.detectMultiScale(gray, 1.3, 5)\n",
    "for (x,y,w,h) in faces:\n",
    "    img = cv2.rectangle(img,(x,y),(x+w,y+h),(255,0,0),2)\n",
    "    roi_gray = gray[y:y+h, x:x+w]\n",
    "    roi_color = img[y:y+h, x:x+w]\n",
    "    eyes = eye_cascade.detectMultiScale(roi_gray)\n",
    "    for (ex,ey,ew,eh) in eyes:\n",
    "        cv2.rectangle(roi_color,(ex,ey),(ex+ew,ey+eh),(0,255,0),2)\n",
    "\n",
    "cv2.imshow('img',img)\n",
    "cv2.waitKey(0)\n",
    "cv2.destroyAllWindows()"
   ]
  },
  {
   "cell_type": "markdown",
   "id": "pediatric-affair",
   "metadata": {},
   "source": [
    "![image](AnswerPic.png) \"Answer\")"
   ]
  },
  {
   "cell_type": "code",
   "execution_count": null,
   "id": "detailed-circumstances",
   "metadata": {},
   "outputs": [],
   "source": []
  }
 ],
 "metadata": {
  "kernelspec": {
   "display_name": "venv",
   "language": "python",
   "name": "venv"
  },
  "language_info": {
   "codemirror_mode": {
    "name": "ipython",
    "version": 3
   },
   "file_extension": ".py",
   "mimetype": "text/x-python",
   "name": "python",
   "nbconvert_exporter": "python",
   "pygments_lexer": "ipython3",
   "version": "3.9.1"
  }
 },
 "nbformat": 4,
 "nbformat_minor": 5
}
